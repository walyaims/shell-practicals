{
 "cells": [
  {
   "cell_type": "code",
   "execution_count": 1,
   "metadata": {},
   "outputs": [],
   "source": [
    "WALY FAYE"
   ]
  },
  {
   "cell_type": "markdown",
   "metadata": {
    "id": "LPINvDFo9Nce"
   },
   "source": [
    "\n",
    "\n",
    "    \n",
    "#    <center> <b> <span style=\"color:orange;\" >  `Python for Scientific Computing and Software Engineering ` </span> </b></center>\n",
    "\n",
    "\n",
    "## <center> <b> <span style=\"color:orange;\"> An Initiation to Programming using Python (Init2Py) </span> </b></center>\n",
    "\n",
    "### <center> <b> <span style=\"color:blue;\"> Travaux Pratiques: Loops</span> </b></center>\n",
    "\n",
    "\n",
    "\n",
    "\n",
    "\n",
    "\n",
    "\n"
   ]
  },
  {
   "cell_type": "markdown",
   "metadata": {
    "id": "0vAKMUYl9Nc1"
   },
   "source": [
    "#### Exercice 0\n",
    ">On se propose de résoudre dans l'ensemble des entiers naturels l'inéquation $2n(n+1)<100$.\n",
    "En utilisant une boucle **While**, écris un programme qui renvoie les solutions entières de cette inéquation."
   ]
  },
  {
   "cell_type": "code",
   "execution_count": null,
   "metadata": {
    "id": "tnXJLyHA9Nc4"
   },
   "outputs": [],
   "source": [
    "n=0\n",
    "while 2*n*(n+1)<100:\n",
    "    print(n)\n",
    "    n=n+1"
   ]
  },
  {
   "cell_type": "markdown",
   "metadata": {
    "id": "USaieP9c9Nc5"
   },
   "source": [
    "#### Exercice 1\n",
    "> En utilisant une boucle **For**, écris un programme qui calcule la somme des 30 premiers entiers naturels non nuls."
   ]
  },
  {
   "cell_type": "code",
   "execution_count": 2,
   "metadata": {
    "id": "-a76WFyH9Nc7"
   },
   "outputs": [
    {
     "name": "stdout",
     "output_type": "stream",
     "text": [
      "465\n"
     ]
    }
   ],
   "source": [
    "s=0\n",
    "for n in range(1,31):\n",
    "    s=s+n\n",
    "print(s)\n"
   ]
  },
  {
   "cell_type": "markdown",
   "metadata": {
    "id": "_070Czs09Nc8"
   },
   "source": [
    "#### Exercice 2\n",
    ">Refais l'exercice 1 en utilisant une boucle **While**."
   ]
  },
  {
   "cell_type": "code",
   "execution_count": 3,
   "metadata": {
    "id": "m7dg2bhR9Nc9"
   },
   "outputs": [
    {
     "name": "stdout",
     "output_type": "stream",
     "text": [
      "465\n"
     ]
    }
   ],
   "source": [
    "s=0\n",
    "n=1\n",
    "while n<=30:\n",
    "    s=s+n\n",
    "    n=n+1\n",
    "print(s)"
   ]
  },
  {
   "cell_type": "markdown",
   "metadata": {
    "id": "Hg1vBggc9Nc_"
   },
   "source": [
    "#### Exercice 3\n",
    ">En utilisant une boucle **For**, écris un programme qui calcule le produit des 9 premiers entiers naturels non nuls."
   ]
  },
  {
   "cell_type": "code",
   "execution_count": 4,
   "metadata": {
    "id": "h0TkyvqS9NdB"
   },
   "outputs": [
    {
     "name": "stdout",
     "output_type": "stream",
     "text": [
      "362880\n"
     ]
    }
   ],
   "source": [
    "s=1\n",
    "for n in range(1,10):\n",
    "    s=s*n\n",
    "print(s)"
   ]
  },
  {
   "cell_type": "markdown",
   "metadata": {
    "id": "a2iZm5y_9NdD"
   },
   "source": [
    "#### Exercice 4\n",
    "> Refais l'exercice 3 en utilisant une boucle **While**."
   ]
  },
  {
   "cell_type": "code",
   "execution_count": 5,
   "metadata": {},
   "outputs": [
    {
     "name": "stdout",
     "output_type": "stream",
     "text": [
      "362880\n"
     ]
    }
   ],
   "source": [
    "s=1\n",
    "n=1\n",
    "while n<10:\n",
    "    s=s*n\n",
    "    n=n+1\n",
    "print(s)"
   ]
  },
  {
   "cell_type": "markdown",
   "metadata": {
    "id": "rb3k7Bve9NdE"
   },
   "source": [
    "#### Exercice 5 \n",
    ">Écris un programme qui demande à l'utilisateur de saisir un nombre n et qui affiche tous les nombres pairs de $1$ à $n$ en utilisant la boucle **For**."
   ]
  },
  {
   "cell_type": "code",
   "execution_count": 6,
   "metadata": {
    "id": "ibXs9RCB9NdF"
   },
   "outputs": [
    {
     "name": "stdout",
     "output_type": "stream",
     "text": [
      "saisir un nombre n 13\n",
      "2  est pair\n",
      "4  est pair\n",
      "6  est pair\n",
      "8  est pair\n",
      "10  est pair\n",
      "12  est pair\n"
     ]
    }
   ],
   "source": [
    "n=int(input(\"saisir un nombre n \", ))\n",
    "i=1\n",
    "for i in range(1,n+1):\n",
    "    if (i%2==0):\n",
    "        print(i ,\" est pair\")"
   ]
  },
  {
   "cell_type": "markdown",
   "metadata": {
    "id": "HPC3bfyE9NdG"
   },
   "source": [
    "#### Exercice 6\n",
    ">Refais l'exercice 5 en utilisant la boucle **While**."
   ]
  },
  {
   "cell_type": "code",
   "execution_count": 7,
   "metadata": {
    "id": "dRuTyo3m9NdH"
   },
   "outputs": [
    {
     "name": "stdout",
     "output_type": "stream",
     "text": [
      "saisir un nombre n 45\n",
      "2  est pair\n",
      "4  est pair\n",
      "6  est pair\n",
      "8  est pair\n",
      "10  est pair\n",
      "12  est pair\n",
      "14  est pair\n",
      "16  est pair\n",
      "18  est pair\n",
      "20  est pair\n",
      "22  est pair\n",
      "24  est pair\n",
      "26  est pair\n",
      "28  est pair\n",
      "30  est pair\n",
      "32  est pair\n",
      "34  est pair\n",
      "36  est pair\n",
      "38  est pair\n",
      "40  est pair\n",
      "42  est pair\n",
      "44  est pair\n"
     ]
    }
   ],
   "source": [
    "n=int(input(\"saisir un nombre n \", ))\n",
    "i=1\n",
    "while i<=n:\n",
    "    if (i%2==0):\n",
    "        print(i , \" est pair\")\n",
    "    i=i+1"
   ]
  },
  {
   "cell_type": "markdown",
   "metadata": {
    "id": "6fNPIIdQ9NdH"
   },
   "source": [
    "#### Exercice 7\n",
    ">Écris un programme qui demande à l'utilisateur de saisir un nombre n et qui affiche tous les nombres impairs de 1 à n en utilisant la boucle **For**."
   ]
  },
  {
   "cell_type": "code",
   "execution_count": 8,
   "metadata": {
    "id": "LuVEv9Lc9NdI"
   },
   "outputs": [
    {
     "name": "stdout",
     "output_type": "stream",
     "text": [
      "saisir un nombre n 78\n",
      "1  est impair\n",
      "3  est impair\n",
      "5  est impair\n",
      "7  est impair\n",
      "9  est impair\n",
      "11  est impair\n",
      "13  est impair\n",
      "15  est impair\n",
      "17  est impair\n",
      "19  est impair\n",
      "21  est impair\n",
      "23  est impair\n",
      "25  est impair\n",
      "27  est impair\n",
      "29  est impair\n",
      "31  est impair\n",
      "33  est impair\n",
      "35  est impair\n",
      "37  est impair\n",
      "39  est impair\n",
      "41  est impair\n",
      "43  est impair\n",
      "45  est impair\n",
      "47  est impair\n",
      "49  est impair\n",
      "51  est impair\n",
      "53  est impair\n",
      "55  est impair\n",
      "57  est impair\n",
      "59  est impair\n",
      "61  est impair\n",
      "63  est impair\n",
      "65  est impair\n",
      "67  est impair\n",
      "69  est impair\n",
      "71  est impair\n",
      "73  est impair\n",
      "75  est impair\n",
      "77  est impair\n"
     ]
    }
   ],
   "source": [
    "n=int(input(\"saisir un nombre n \", ))\n",
    "i=1\n",
    "for i in range(1,n+1):\n",
    "      if (i%2!=0):\n",
    "        print(i ,\" est impair\")"
   ]
  },
  {
   "cell_type": "markdown",
   "metadata": {
    "id": "HIlapsJ89NdK"
   },
   "source": [
    "#### Exercice 8\n",
    ">Refais l'exercice 7 en utilisant la boucle **While**.\n",
    "\n"
   ]
  },
  {
   "cell_type": "code",
   "execution_count": 9,
   "metadata": {
    "id": "Igvjeb2E9NdM"
   },
   "outputs": [
    {
     "name": "stdout",
     "output_type": "stream",
     "text": [
      "saisir un nombre n 89\n",
      "1  est impair\n",
      "3  est impair\n",
      "5  est impair\n",
      "7  est impair\n",
      "9  est impair\n",
      "11  est impair\n",
      "13  est impair\n",
      "15  est impair\n",
      "17  est impair\n",
      "19  est impair\n",
      "21  est impair\n",
      "23  est impair\n",
      "25  est impair\n",
      "27  est impair\n",
      "29  est impair\n",
      "31  est impair\n",
      "33  est impair\n",
      "35  est impair\n",
      "37  est impair\n",
      "39  est impair\n",
      "41  est impair\n",
      "43  est impair\n",
      "45  est impair\n",
      "47  est impair\n",
      "49  est impair\n",
      "51  est impair\n",
      "53  est impair\n",
      "55  est impair\n",
      "57  est impair\n",
      "59  est impair\n",
      "61  est impair\n",
      "63  est impair\n",
      "65  est impair\n",
      "67  est impair\n",
      "69  est impair\n",
      "71  est impair\n",
      "73  est impair\n",
      "75  est impair\n",
      "77  est impair\n",
      "79  est impair\n",
      "81  est impair\n",
      "83  est impair\n",
      "85  est impair\n",
      "87  est impair\n",
      "89  est impair\n"
     ]
    }
   ],
   "source": [
    "n=int(input(\"saisir un nombre n \", ))\n",
    "i=1\n",
    "while i<=n:\n",
    "    if (i%2!=0):\n",
    "        print(i , \" est impair\")\n",
    "    i=i+1"
   ]
  },
  {
   "cell_type": "markdown",
   "metadata": {
    "id": "KOYLg_e79NdU"
   },
   "source": [
    "#### Exercice 9\n",
    ">Écris un programme qui demande à l'utilisateur de saisir un nombre n et qui affiche sa table de multiplication  en utilisant la boucle **For**."
   ]
  },
  {
   "cell_type": "code",
   "execution_count": 1,
   "metadata": {
    "id": "BvOU9oLw9NdU"
   },
   "outputs": [
    {
     "name": "stdout",
     "output_type": "stream",
     "text": [
      "saisir un nombre n 12\n",
      "1*3=3\n",
      "2*3=6\n",
      "3*3=9\n",
      "4*3=12\n",
      "5*3=15\n",
      "6*3=18\n",
      "7*3=21\n",
      "8*3=24\n",
      "9*3=27\n",
      "10*3=30\n",
      "11*3=33\n",
      "12*3=36\n"
     ]
    }
   ],
   "source": [
    "n=int(input(\"saisir un nombre n \", ))\n",
    "i=1\n",
    "for i in range(1,n+1):\n",
    "    print(\"{}*3={}\".format(i,i*3))"
   ]
  },
  {
   "cell_type": "markdown",
   "metadata": {
    "id": "Ukzy78L09NdV"
   },
   "source": [
    "#### Exercice 10\n",
    ">Refais l'exercice 9 en utilisant la boucle **While**."
   ]
  },
  {
   "cell_type": "code",
   "execution_count": null,
   "metadata": {},
   "outputs": [],
   "source": [
    "n=int(input(\"saisir un nombre n:\"))\n",
    "i=1\n",
    "while(i<=12):\n",
    "  print(\"{}*i={}\".format(i,n*i))"
   ]
  },
  {
   "cell_type": "markdown",
   "metadata": {
    "id": "AQW435Hq9NdW"
   },
   "source": [
    "# Exercice 11\n",
    ">Écris un programme qui demande à l'utilisateur d'entrer un nombre et de trouver tous ses diviseurs  en utilisant la boucle **For**."
   ]
  },
  {
   "cell_type": "code",
   "execution_count": 22,
   "metadata": {
    "id": "Zjs_NfT89NdX"
   },
   "outputs": [
    {
     "name": "stdout",
     "output_type": "stream",
     "text": [
      "saisir un nombre n=  20\n",
      "1  est diviseur de 20\n",
      "2  est diviseur de 20\n",
      "4  est diviseur de 20\n",
      "5  est diviseur de 20\n",
      "10  est diviseur de 20\n",
      "20  est diviseur de 20\n"
     ]
    }
   ],
   "source": [
    "n=int(input(\"saisir un nombre n=  \",  ))\n",
    "for i in range(1,n+1):\n",
    "    if (n%i==0):\n",
    "        print(i, \" est diviseur de\", n )"
   ]
  },
  {
   "cell_type": "markdown",
   "metadata": {
    "id": "pGp6labk9NdX"
   },
   "source": [
    "#### Exercice 12\n",
    ">Écris un programme qui demande à l'utilisateur d'entrer un entier naturel n et de trouver tous sa factorielle n!  en utilisant la boucle **For**. On rappelle que $n!=n*(n-1)*(n-2)...3*2*1$."
   ]
  },
  {
   "cell_type": "code",
   "execution_count": 24,
   "metadata": {
    "id": "iDw3TKDU9NdX"
   },
   "outputs": [
    {
     "name": "stdout",
     "output_type": "stream",
     "text": [
      "saisir un entier naturel n=  20\n",
      "2432902008176640000  est le factoriel de  20\n"
     ]
    }
   ],
   "source": [
    "n=int(input(\"saisir un entier naturel n=  \",  ))\n",
    "fact=1\n",
    "for i in range(1,n+1):\n",
    "    fact=fact*i\n",
    "print(fact, \" est le factoriel de \", n)"
   ]
  },
  {
   "cell_type": "markdown",
   "metadata": {
    "id": "eyKh1oTo9NdY"
   },
   "source": [
    "#### Exercice 13\n",
    ">Écris un programme qui demande à l'utilisateur d'entrer deux entiers naturels (plus petits que 15) et de trouver leur plus petit commun multiple utilisant la boucle **For**."
   ]
  },
  {
   "cell_type": "code",
   "execution_count": 25,
   "metadata": {
    "id": "ombGnLVQ9NdY"
   },
   "outputs": [
    {
     "name": "stdout",
     "output_type": "stream",
     "text": [
      "saisir un entier naturel plus petit que 15 n=  13\n",
      "saisir un entier naturel plus petit que 15 m=  12\n",
      "le ppcm de 13 et 12 est 156\n"
     ]
    }
   ],
   "source": [
    "n=int(input(\"saisir un entier naturel plus petit que 15 n=  \"  ))\n",
    "m=int(input(\"saisir un entier naturel plus petit que 15 m=  \"  ))\n",
    "for i in range(1,(n*m)+1):\n",
    "    if (n%m==0):\n",
    "        print(\"le ppcm de\", n ,\"et\", m ,\"est\", n)\n",
    "        break\n",
    "    elif (m%n==0):\n",
    "        print(\"le ppcm de\" ,n ,\"et\", m ,\"est\", m)\n",
    "        break\n",
    "    else:\n",
    "        print(\"le ppcm de\" ,n ,\"et\", m ,\"est\", n*m)\n",
    "        break\n"
   ]
  },
  {
   "cell_type": "markdown",
   "metadata": {
    "id": "j4zO7-ak9NdZ"
   },
   "source": [
    "#### Exercice 14\n",
    ">Écris un programme pour afficher la série de Fibonacci jusqu'à n termes en utilisant une boucle."
   ]
  },
  {
   "cell_type": "code",
   "execution_count": 27,
   "metadata": {
    "id": "5UknLOdY9NdZ"
   },
   "outputs": [
    {
     "name": "stdout",
     "output_type": "stream",
     "text": [
      "entrer la valeur de n : 12\n",
      "on a la suite : \n",
      "  1 \n",
      " 1\n",
      "2\n",
      "3\n",
      "5\n",
      "8\n",
      "13\n",
      "21\n",
      "34\n",
      "55\n",
      "89\n",
      "144\n"
     ]
    }
   ],
   "source": [
    "m=1\n",
    "p=1\n",
    "n=int(input(\"entrer la valeur de n : \"))\n",
    "if (n<1):\n",
    "    print(\"pas de suite\")\n",
    "elif(n>=1 and n<=2):\n",
    "    print(\"la suite de fibonacci est: 1 1 \")\n",
    "else:\n",
    "    i=1\n",
    "    print(\"on a la suite : \\n \",\"1 \\n\",\"1\")\n",
    "    while(i<=n-2):\n",
    "        d=m+p\n",
    "        p=m\n",
    "        m=d\n",
    "        i+=1\n",
    "        print(d)"
   ]
  },
  {
   "cell_type": "markdown",
   "metadata": {
    "id": "_RBVFZdl9Nda"
   },
   "source": [
    "#### Exercice 15\n",
    ">Écris, en utilisant une boucle **For**, un programme pour afficher 5 fois de suite le message \"Python est un très bon langage de programmation\"."
   ]
  },
  {
   "cell_type": "code",
   "execution_count": 28,
   "metadata": {
    "id": "IA5dPbgd9Nda"
   },
   "outputs": [
    {
     "name": "stdout",
     "output_type": "stream",
     "text": [
      "Python est un très bon langage de programmation\n",
      "Python est un très bon langage de programmation\n",
      "Python est un très bon langage de programmation\n",
      "Python est un très bon langage de programmation\n",
      "Python est un très bon langage de programmation\n"
     ]
    }
   ],
   "source": [
    "for i in range(1,6):\n",
    "    print(\"Python est un très bon langage de programmation\")\n",
    "else:\n",
    "    print(\"on a la suite : \\n \",\"1 \\n\",\"1\")"
   ]
  },
  {
   "cell_type": "markdown",
   "metadata": {
    "id": "VUgurSg59Nda"
   },
   "source": [
    "#### Exercice 16\n",
    ">Écris, en utilisant une boucle **While**, un programme pour afficher 7 fois de suite le message \"A cette allure je finirai par tout abandonner pour la programmation\"."
   ]
  },
  {
   "cell_type": "code",
   "execution_count": 33,
   "metadata": {
    "id": "TgE99bdh9Ndb"
   },
   "outputs": [
    {
     "name": "stdout",
     "output_type": "stream",
     "text": [
      "A cette allure je finirai par tout abandonner pour la programmation\n",
      "A cette allure je finirai par tout abandonner pour la programmation\n",
      "A cette allure je finirai par tout abandonner pour la programmation\n",
      "A cette allure je finirai par tout abandonner pour la programmation\n",
      "A cette allure je finirai par tout abandonner pour la programmation\n",
      "A cette allure je finirai par tout abandonner pour la programmation\n",
      "A cette allure je finirai par tout abandonner pour la programmation\n"
     ]
    }
   ],
   "source": [
    "i=1\n",
    "while i<=7:\n",
    "    print(\"A cette allure je finirai par tout abandonner pour la programmation\")\n",
    "    i=i+1\n",
    "    "
   ]
  },
  {
   "cell_type": "markdown",
   "metadata": {
    "id": "DVgTXQRX9Ndb"
   },
   "source": [
    "#### Exercice 17\n",
    ">Écris, en utilisant une boucle **For**, un programme qui compte à l'envers de 10 à 0 puis qui affiche le message \"Partez\".\n"
   ]
  },
  {
   "cell_type": "code",
   "execution_count": 34,
   "metadata": {
    "id": "w4L4KV6C9Ndc"
   },
   "outputs": [
    {
     "name": "stdout",
     "output_type": "stream",
     "text": [
      "10\n",
      "9\n",
      "8\n",
      "7\n",
      "6\n",
      "5\n",
      "4\n",
      "3\n",
      "2\n",
      "1\n",
      "0\n",
      "Partez\n"
     ]
    }
   ],
   "source": [
    "n=11\n",
    "for i in range(n):\n",
    "    n=n-1\n",
    "    print(n)\n",
    "print( \"Partez\")\n"
   ]
  },
  {
   "cell_type": "markdown",
   "metadata": {
    "id": "raJAaAd29Ndc"
   },
   "source": [
    "#### Exercice 18\n",
    ">Écris, en utilisant une boucle **For**, un programme qui affiche chaque élément d'une chaine de caractère."
   ]
  },
  {
   "cell_type": "code",
   "execution_count": 35,
   "metadata": {
    "id": "wZv1gX4c9Ndd"
   },
   "outputs": [
    {
     "name": "stdout",
     "output_type": "stream",
     "text": [
      "D\n",
      "O\n",
      "U\n",
      "D\n",
      "O\n",
      "U\n",
      "W\n",
      "A\n",
      "L\n",
      "Y\n"
     ]
    }
   ],
   "source": [
    "ch=\"DOUDOUWALY\"\n",
    "for i in ch:\n",
    "    print(i)\n"
   ]
  },
  {
   "cell_type": "markdown",
   "metadata": {
    "id": "095_Dtoc9Ndf"
   },
   "source": [
    "#### Exercice 19\n",
    ">Écris, en utilisant une boucle **For**, un programme qui compte à l'envers de 10 à 0 puis qui affiche le message \"Partez\"."
   ]
  },
  {
   "cell_type": "code",
   "execution_count": 36,
   "metadata": {
    "id": "MOV4pZzn9Ndg"
   },
   "outputs": [
    {
     "name": "stdout",
     "output_type": "stream",
     "text": [
      "10\n",
      "9\n",
      "8\n",
      "7\n",
      "6\n",
      "5\n",
      "4\n",
      "3\n",
      "2\n",
      "1\n",
      "0\n",
      "Partez\n"
     ]
    }
   ],
   "source": [
    "k=11\n",
    "for i in range(k):\n",
    "    k=k-1\n",
    "    print(k)\n",
    "print( \"Partez\")"
   ]
  },
  {
   "cell_type": "markdown",
   "metadata": {
    "id": "5sUU7dgJ9Ndh"
   },
   "source": [
    "<center> <b> <span style=\"color:orange;\"> 🎉 FÉLICITATIONS ! / CONGRATULATIONS! 🎉 </span> </b></center>"
   ]
  }
 ],
 "metadata": {
  "colab": {
   "name": "Init2Py_Practical_04.ipynb",
   "provenance": []
  },
  "kernelspec": {
   "display_name": "Python 3",
   "language": "python",
   "name": "python3"
  }
 },
 "nbformat": 4,
 "nbformat_minor": 1
}
